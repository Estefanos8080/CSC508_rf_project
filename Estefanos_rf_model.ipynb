{
  "nbformat": 4,
  "nbformat_minor": 0,
  "metadata": {
    "colab": {
      "provenance": [],
      "authorship_tag": "ABX9TyPpessehYPYI+SPx4pdtU+G",
      "include_colab_link": true
    },
    "kernelspec": {
      "name": "python3",
      "display_name": "Python 3"
    },
    "language_info": {
      "name": "python"
    }
  },
  "cells": [
    {
      "cell_type": "markdown",
      "metadata": {
        "id": "view-in-github",
        "colab_type": "text"
      },
      "source": [
        "<a href=\"https://colab.research.google.com/github/Estefanos8080/CSC508_rf_project/blob/main/Estefanos_rf_model.ipynb\" target=\"_parent\"><img src=\"https://colab.research.google.com/assets/colab-badge.svg\" alt=\"Open In Colab\"/></a>"
      ]
    },
    {
      "cell_type": "markdown",
      "source": [
        "## import packages and load data\n",
        "\n"
      ],
      "metadata": {
        "id": "2CB2iqjPSkP0"
      }
    },
    {
      "cell_type": "code",
      "execution_count": 99,
      "metadata": {
        "colab": {
          "base_uri": "https://localhost:8080/"
        },
        "id": "0asSmd_TSji5",
        "outputId": "f15dceff-121b-4d17-fd59-28424eb8aaef"
      },
      "outputs": [
        {
          "output_type": "stream",
          "name": "stdout",
          "text": [
            "     Age  Sex  Chest_pain_type At_rest_bp Cholesterol Fast_blood_sug Rest_ecg  \\\n",
            "0     28    1                2        130         132              0        2   \n",
            "1     29    1                2        120         243              0        0   \n",
            "2     29    1                2        140           ?              0        0   \n",
            "3     30    0                1        170         237              0        1   \n",
            "4     31    0                2        100         219              0        1   \n",
            "..   ...  ...              ...        ...         ...            ...      ...   \n",
            "289   52    1                4        160         331              0        0   \n",
            "290   54    0                3        130         294              0        1   \n",
            "291   56    1                4        155         342              1        0   \n",
            "292   58    0                2        180         393              0        0   \n",
            "293   65    1                4        130         275              0        1   \n",
            "\n",
            "    Maxhr Exer_angina  Oldpeak Slope Ca Thal  Diag  \n",
            "0     185           0      0.0     ?  ?    ?     0  \n",
            "1     160           0      0.0     ?  ?    ?     0  \n",
            "2     170           0      0.0     ?  ?    ?     0  \n",
            "3     170           0      0.0     ?  ?    6     0  \n",
            "4     150           0      0.0     ?  ?    ?     0  \n",
            "..    ...         ...      ...   ... ..  ...   ...  \n",
            "289    94           1      2.5     ?  ?    ?     1  \n",
            "290   100           1      0.0     2  ?    ?     1  \n",
            "291   150           1      3.0     2  ?    ?     1  \n",
            "292   110           1      1.0     2  ?    7     1  \n",
            "293   115           1      1.0     2  ?    ?     1  \n",
            "\n",
            "[294 rows x 14 columns]\n"
          ]
        }
      ],
      "source": [
        "# import packages\n",
        "import pandas as pd\n",
        "import numpy as np\n",
        "from sklearn import metrics #Import scikit-learn metrics module for accuracy calculation\n",
        "from sklearn.model_selection import train_test_split\n",
        "from sklearn.ensemble import RandomForestClassifier\n",
        "from matplotlib import pyplot as plt\n",
        "\n",
        "# Load the data\n",
        "columns = [\"Age\",\"Sex\",\"Chest_pain_type\",\"At_rest_bp\",\"Cholesterol\",\"Fast_blood_sug\",\"Rest_ecg\",\"Maxhr\",\"Exer_angina\",\"Oldpeak\",\"Slope\",\"Ca\",\"Thal\",\"Diag\"]\n",
        "#cleveland_data = pd.read_csv('https://raw.githubusercontent.com/kusabhadranv/gSTARdataset/main/processed.cleveland.data',header=None, names=columns)\n",
        "hungarian_data = pd.read_csv('https://raw.githubusercontent.com/pleunipennings/CSC508Data/main/processed.hungarian.data.txt',header=None,names=columns )\n",
        "# THe data was collected by the UCI. The database contains 76 attributes. \n",
        "print(hungarian_data)\n"
      ]
    },
    {
      "cell_type": "markdown",
      "source": [
        "# Get the missing data and impute them with the median"
      ],
      "metadata": {
        "id": "jGTm76Lan5QY"
      }
    },
    {
      "cell_type": "markdown",
      "source": [
        "get the median"
      ],
      "metadata": {
        "id": "NAqXC_oB0QZ9"
      }
    },
    {
      "cell_type": "code",
      "source": [
        "print(\"The median is\", hungarian_data.median()[0])"
      ],
      "metadata": {
        "colab": {
          "base_uri": "https://localhost:8080/"
        },
        "id": "QchzANf_0USY",
        "outputId": "faba2594-8d3f-4cea-b7d6-e38edbfd7a49"
      },
      "execution_count": 100,
      "outputs": [
        {
          "output_type": "stream",
          "name": "stdout",
          "text": [
            "The median is 49.0\n"
          ]
        },
        {
          "output_type": "stream",
          "name": "stderr",
          "text": [
            "/usr/local/lib/python3.7/dist-packages/ipykernel_launcher.py:1: FutureWarning: Dropping of nuisance columns in DataFrame reductions (with 'numeric_only=None') is deprecated; in a future version this will raise TypeError.  Select only valid columns before calling the reduction.\n",
            "  \"\"\"Entry point for launching an IPython kernel.\n"
          ]
        }
      ]
    },
    {
      "cell_type": "code",
      "source": [
        "# the value of the missing data is ?.\n",
        "hungarian_data = hungarian_data.replace('?', 49)\n",
        "# hungarian_data['Thal'] = hungarian_data['Thal'].fillna(hungarian_data['Thal'].median())\n",
        "# hungarian_data['Ca'] = hungarian_data['Ca'].fillna(hungarian_data['Ca'].median())\n",
        "print((hungarian_data== '?').sum())\n",
        "# print(\"The median is\", hungarian_data.median())"
      ],
      "metadata": {
        "colab": {
          "base_uri": "https://localhost:8080/"
        },
        "id": "FqNXGdcnoBZx",
        "outputId": "e91c69e7-f1be-43d4-f9f6-b788074925fb"
      },
      "execution_count": 101,
      "outputs": [
        {
          "output_type": "stream",
          "name": "stdout",
          "text": [
            "Age                0\n",
            "Sex                0\n",
            "Chest_pain_type    0\n",
            "At_rest_bp         0\n",
            "Cholesterol        0\n",
            "Fast_blood_sug     0\n",
            "Rest_ecg           0\n",
            "Maxhr              0\n",
            "Exer_angina        0\n",
            "Oldpeak            0\n",
            "Slope              0\n",
            "Ca                 0\n",
            "Thal               0\n",
            "Diag               0\n",
            "dtype: int64\n"
          ]
        }
      ]
    },
    {
      "cell_type": "markdown",
      "source": [
        "columns with missing value ares are At_rest_bp, Cholesterol, fast_blood_sug, rest_ecg, Maxhr,\n",
        "Exer_angina, Slope, Ca, and Thal.\n",
        "instead of replacing them with the median i decide to drop the columns. \n",
        "\n",
        "# But the accuracy was too low(~ 69%)so i decide to impute the missing value with the median.\n",
        "uncomment and rerun the model to train without those features.\n"
      ],
      "metadata": {
        "id": "NhiuCi2uxMwL"
      }
    },
    {
      "cell_type": "code",
      "source": [
        "# print(\"After droping columns with missing value. Here are the features that i will be working on.\")\n",
        "# hungarian_data = hungarian_data.drop(columns=['At_rest_bp', 'Cholesterol', 'Fast_blood_sug', 'Rest_ecg', 'Maxhr', 'Exer_angina','Slope','Ca','Thal'])\n",
        "# print((hungarian_data== '?').sum())"
      ],
      "metadata": {
        "id": "IgTy2eAJxSlp"
      },
      "execution_count": 102,
      "outputs": []
    },
    {
      "cell_type": "markdown",
      "source": [
        "## Get the dimension"
      ],
      "metadata": {
        "id": "gciTmC8Pog3-"
      }
    },
    {
      "cell_type": "code",
      "source": [
        "print(\"The dimension is:- \", hungarian_data.shape)"
      ],
      "metadata": {
        "colab": {
          "base_uri": "https://localhost:8080/"
        },
        "id": "yl3s_tKYosHD",
        "outputId": "ad7c6feb-61be-4db3-9824-1efcdf2f9622"
      },
      "execution_count": 103,
      "outputs": [
        {
          "output_type": "stream",
          "name": "stdout",
          "text": [
            "The dimension is:-  (294, 14)\n"
          ]
        }
      ]
    },
    {
      "cell_type": "markdown",
      "source": [
        "## split the data from features and training\n",
        "The predicted label is Diag. We have to separate the label from the dataset then convert the label to binary values. That make the model to be trained to predict wheater heart disease is absence or presence."
      ],
      "metadata": {
        "id": "vPPYb7l-o1Bn"
      }
    },
    {
      "cell_type": "code",
      "source": [
        "labels = np.array(hungarian_data[\"Diag\"])\n",
        "labels = np.where(labels >= 1,1,0)\n",
        "print(labels)"
      ],
      "metadata": {
        "colab": {
          "base_uri": "https://localhost:8080/"
        },
        "id": "dGYO6TM1o6em",
        "outputId": "ce6d7bec-85ca-4582-be87-9db595b28076"
      },
      "execution_count": 104,
      "outputs": [
        {
          "output_type": "stream",
          "name": "stdout",
          "text": [
            "[0 0 0 0 0 0 0 0 0 0 0 0 0 0 0 0 0 0 0 0 0 0 0 0 0 0 0 0 0 0 0 0 0 0 0 0 0\n",
            " 0 0 0 0 0 0 0 0 0 0 0 0 0 0 0 0 0 0 0 0 0 0 0 0 0 0 0 0 0 0 0 0 0 0 0 0 0\n",
            " 0 0 0 0 0 0 0 0 0 0 0 0 0 0 0 0 0 0 0 0 0 0 0 0 0 0 0 0 0 0 0 0 0 0 0 0 0\n",
            " 0 0 0 0 0 0 0 0 0 0 0 0 0 0 0 0 0 0 0 0 0 0 0 0 0 0 0 0 0 0 0 0 0 0 0 0 0\n",
            " 0 0 0 0 0 0 0 0 0 0 0 0 0 0 0 0 0 0 0 0 0 0 0 0 0 0 0 0 0 0 0 0 0 0 0 0 0\n",
            " 0 0 0 1 1 1 1 1 1 1 1 1 1 1 1 1 1 1 1 1 1 1 1 1 1 1 1 1 1 1 1 1 1 1 1 1 1\n",
            " 1 1 1 1 1 1 1 1 1 1 1 1 1 1 1 1 1 1 1 1 1 1 1 1 1 1 1 1 1 1 1 1 1 1 1 1 1\n",
            " 1 1 1 1 1 1 1 1 1 1 1 1 1 1 1 1 1 1 1 1 1 1 1 1 1 1 1 1 1 1 1 1 1 1 1]\n"
          ]
        }
      ]
    },
    {
      "cell_type": "markdown",
      "source": [
        "Drop the diag labels then use the dataset to train the model then use the remaing dataset to train the model."
      ],
      "metadata": {
        "id": "zfQoSycApUb9"
      }
    },
    {
      "cell_type": "code",
      "source": [
        "features = hungarian_data.drop(columns=['Diag'])\n",
        "print(features)"
      ],
      "metadata": {
        "colab": {
          "base_uri": "https://localhost:8080/"
        },
        "id": "DqoHMrn5qM6T",
        "outputId": "0ae12c68-859b-4da2-e20b-2f6e07b5d583"
      },
      "execution_count": 105,
      "outputs": [
        {
          "output_type": "stream",
          "name": "stdout",
          "text": [
            "     Age  Sex  Chest_pain_type At_rest_bp Cholesterol Fast_blood_sug Rest_ecg  \\\n",
            "0     28    1                2        130         132              0        2   \n",
            "1     29    1                2        120         243              0        0   \n",
            "2     29    1                2        140          49              0        0   \n",
            "3     30    0                1        170         237              0        1   \n",
            "4     31    0                2        100         219              0        1   \n",
            "..   ...  ...              ...        ...         ...            ...      ...   \n",
            "289   52    1                4        160         331              0        0   \n",
            "290   54    0                3        130         294              0        1   \n",
            "291   56    1                4        155         342              1        0   \n",
            "292   58    0                2        180         393              0        0   \n",
            "293   65    1                4        130         275              0        1   \n",
            "\n",
            "    Maxhr Exer_angina  Oldpeak Slope  Ca Thal  \n",
            "0     185           0      0.0    49  49   49  \n",
            "1     160           0      0.0    49  49   49  \n",
            "2     170           0      0.0    49  49   49  \n",
            "3     170           0      0.0    49  49    6  \n",
            "4     150           0      0.0    49  49   49  \n",
            "..    ...         ...      ...   ...  ..  ...  \n",
            "289    94           1      2.5    49  49   49  \n",
            "290   100           1      0.0     2  49   49  \n",
            "291   150           1      3.0     2  49   49  \n",
            "292   110           1      1.0     2  49    7  \n",
            "293   115           1      1.0     2  49   49  \n",
            "\n",
            "[294 rows x 13 columns]\n"
          ]
        }
      ]
    },
    {
      "cell_type": "markdown",
      "source": [
        "we have to convert the dataframe into Numpy array so that the algorthim process it."
      ],
      "metadata": {
        "id": "hmwP6U97qxY-"
      }
    },
    {
      "cell_type": "code",
      "source": [
        "features = np.array(features)\n",
        "print(features)"
      ],
      "metadata": {
        "colab": {
          "base_uri": "https://localhost:8080/"
        },
        "id": "-xfBOMUhrBKI",
        "outputId": "5daaf64c-7315-49a4-e7a4-92a0861a30ed"
      },
      "execution_count": 106,
      "outputs": [
        {
          "output_type": "stream",
          "name": "stdout",
          "text": [
            "[[28 1 2 ... 49 49 49]\n",
            " [29 1 2 ... 49 49 49]\n",
            " [29 1 2 ... 49 49 49]\n",
            " ...\n",
            " [56 1 4 ... '2' 49 49]\n",
            " [58 0 2 ... '2' 49 '7']\n",
            " [65 1 4 ... '2' 49 49]]\n"
          ]
        }
      ]
    },
    {
      "cell_type": "markdown",
      "source": [
        "get the number of missing value"
      ],
      "metadata": {
        "id": "Fs0DSHfRC8El"
      }
    },
    {
      "cell_type": "code",
      "source": [
        "# Method created by Estefanos\n",
        "def count_missing_value(features):\n",
        "  number_of_missingValues = 0\n",
        "  for each_value in features:\n",
        "    for index in each_value:\n",
        "      if index == 49:\n",
        "        number_of_missingValues += 1\n",
        "  return number_of_missingValues\n",
        "\n",
        "print(count_missing_value(features))  "
      ],
      "metadata": {
        "colab": {
          "base_uri": "https://localhost:8080/"
        },
        "id": "zrMlj89JC_u9",
        "outputId": "d9dd9858-ccb7-4a74-ed42-acf42e2373bc"
      },
      "execution_count": 119,
      "outputs": [
        {
          "output_type": "stream",
          "name": "stdout",
          "text": [
            "797\n"
          ]
        }
      ]
    },
    {
      "cell_type": "markdown",
      "source": [
        "Seperating the training and testing data. \n",
        "test_size=0.3. Gives the propotion of the dataset to include in the test set. 0.3 represents 30%. \n",
        "random_state = 1 Random state ensures that the splits that you generate are reproducible. \n",
        "\n",
        "Scikit-learn uses random permutations to generate the splits. The random state that you provide is used as a seed to the random number generator. This ensures that the random numbers are generated in the same order. "
      ],
      "metadata": {
        "id": "v0PNqjr3sLY9"
      }
    },
    {
      "cell_type": "code",
      "source": [
        "train_features, test_features, train_labels, test_labels = train_test_split(features, labels, test_size = 0.25, random_state = 42)\n",
        "print(\"######### Train labels ###########\")\n",
        "print(train_labels)\n",
        "print(\" \")\n",
        "print(\"######### Sample Test features ##########\")\n",
        "print(test_features[0])\n",
        "print(\" \")\n",
        "print(\"######## Test labels ############\")\n",
        "print(test_labels)"
      ],
      "metadata": {
        "colab": {
          "base_uri": "https://localhost:8080/"
        },
        "id": "0ia1hyZYsKJi",
        "outputId": "d0fe48f0-0a90-4c0c-b377-e37f899ac1a7"
      },
      "execution_count": 107,
      "outputs": [
        {
          "output_type": "stream",
          "name": "stdout",
          "text": [
            "######### Train labels ###########\n",
            "[0 0 0 0 0 0 0 0 0 0 1 0 1 0 0 0 1 0 0 0 0 1 1 0 0 0 1 0 0 1 1 0 0 1 0 0 0\n",
            " 0 1 0 0 1 0 1 0 1 1 0 0 1 1 0 0 0 0 0 0 0 1 0 1 1 0 0 0 1 1 0 0 0 1 0 1 0\n",
            " 0 0 1 0 0 0 0 0 1 0 0 0 1 1 0 0 1 0 0 1 0 1 0 1 0 1 1 1 0 0 0 0 1 1 1 0 1\n",
            " 1 0 1 0 0 0 1 0 1 1 0 0 0 0 1 0 0 1 0 0 1 0 0 0 1 0 0 1 1 0 1 1 0 1 1 1 1\n",
            " 0 0 0 1 1 1 0 0 1 0 1 1 1 0 0 0 0 0 0 0 0 0 0 1 0 1 0 0 1 1 0 0 0 0 0 1 0\n",
            " 0 0 1 0 1 1 0 0 0 1 0 0 0 0 1 1 0 0 1 1 1 0 0 0 0 0 1 0 1 0 1 0 0 1 0]\n",
            " \n",
            "######### Sample Test features ##########\n",
            "[39 1 2 '120' '204' '0' '0' '145' '0' 0.0 49 49 49]\n",
            " \n",
            "######## Test labels ############\n",
            "[0 0 0 1 1 0 0 1 0 0 0 0 0 0 0 1 0 0 1 0 1 1 1 0 1 0 0 0 1 0 1 0 1 0 0 0 0\n",
            " 1 1 1 0 1 0 0 1 0 1 1 0 0 1 0 0 0 0 0 0 0 1 0 1 0 0 1 0 1 0 0 0 0 0 1 0 1]\n"
          ]
        }
      ]
    },
    {
      "cell_type": "markdown",
      "source": [],
      "metadata": {
        "id": "YBUJFIWusJbh"
      }
    },
    {
      "cell_type": "markdown",
      "source": [
        "## Train the data using the test lables"
      ],
      "metadata": {
        "id": "QBtNs6GctbXx"
      }
    },
    {
      "cell_type": "code",
      "source": [
        "rf = RandomForestClassifier(n_estimators = 10000, max_features = 10, bootstrap = True, random_state = 2)\n",
        "rf.fit(train_features, train_labels)\n",
        "print(rf)"
      ],
      "metadata": {
        "colab": {
          "base_uri": "https://localhost:8080/"
        },
        "id": "eCtEgBWatxG1",
        "outputId": "059aa2ae-7365-4e9b-f74f-b586a6c8317a"
      },
      "execution_count": 108,
      "outputs": [
        {
          "output_type": "stream",
          "name": "stdout",
          "text": [
            "RandomForestClassifier(max_features=10, n_estimators=10000, random_state=2)\n"
          ]
        }
      ]
    },
    {
      "cell_type": "markdown",
      "source": [
        "# predicting and looking at the accuracy of the data"
      ],
      "metadata": {
        "id": "4Lrj1pGhxkSH"
      }
    },
    {
      "cell_type": "code",
      "source": [
        "predictions = rf.predict(test_features)\n",
        "print(predictions)"
      ],
      "metadata": {
        "colab": {
          "base_uri": "https://localhost:8080/"
        },
        "id": "Fniv35C4xqoE",
        "outputId": "89ea3899-24d4-4437-ba58-0cd4397874da"
      },
      "execution_count": 90,
      "outputs": [
        {
          "output_type": "stream",
          "name": "stdout",
          "text": [
            "[0 0 0 1 1 0 0 0 0 0 1 0 0 1 0 1 0 1 0 0 1 1 1 0 1 0 0 1 0 0 1 1 1 0 0 0 0\n",
            " 1 0 1 0 1 1 0 1 0 1 0 0 0 1 0 0 0 0 1 0 0 1 0 0 0 0 1 0 1 0 0 0 0 0 1 0 1]\n"
          ]
        }
      ]
    },
    {
      "cell_type": "markdown",
      "source": [
        "# Visualize the result using confusin matrix"
      ],
      "metadata": {
        "id": "boap-tDKxze4"
      }
    },
    {
      "cell_type": "code",
      "source": [
        "metrics.confusion_matrix(test_labels, predictions)\n",
        "metrics.plot_confusion_matrix(rf, test_features, test_labels)"
      ],
      "metadata": {
        "colab": {
          "base_uri": "https://localhost:8080/",
          "height": 350
        },
        "id": "k8WsVDVCxzGM",
        "outputId": "2493c927-5bfb-4847-9769-77fefc23be46"
      },
      "execution_count": 91,
      "outputs": [
        {
          "output_type": "stream",
          "name": "stderr",
          "text": [
            "/usr/local/lib/python3.7/dist-packages/sklearn/utils/deprecation.py:87: FutureWarning: Function plot_confusion_matrix is deprecated; Function `plot_confusion_matrix` is deprecated in 1.0 and will be removed in 1.2. Use one of the class methods: ConfusionMatrixDisplay.from_predictions or ConfusionMatrixDisplay.from_estimator.\n",
            "  warnings.warn(msg, category=FutureWarning)\n"
          ]
        },
        {
          "output_type": "execute_result",
          "data": {
            "text/plain": [
              "<sklearn.metrics._plot.confusion_matrix.ConfusionMatrixDisplay at 0x7f94086c3fd0>"
            ]
          },
          "metadata": {},
          "execution_count": 91
        },
        {
          "output_type": "display_data",
          "data": {
            "text/plain": [
              "<Figure size 432x288 with 2 Axes>"
            ],
            "image/png": "[encoded data removed]"
          },
          "metadata": {
            "needs_background": "light"
          }
        }
      ]
    },
    {
      "cell_type": "markdown",
      "source": [
        "calcualting the accuracy"
      ],
      "metadata": {
        "id": "brbglCo8yDKm"
      }
    },
    {
      "cell_type": "code",
      "source": [
        "acc = round(100*metrics.accuracy_score(predictions, test_labels),2)\n",
        "print(\"Accuracy:\",acc,\"%\")"
      ],
      "metadata": {
        "colab": {
          "base_uri": "https://localhost:8080/"
        },
        "id": "pDSdVwaDyFpa",
        "outputId": "b1953138-940a-4f76-b374-a819c144a0df"
      },
      "execution_count": 92,
      "outputs": [
        {
          "output_type": "stream",
          "name": "stdout",
          "text": [
            "Accuracy: 82.43 %\n"
          ]
        }
      ]
    },
    {
      "cell_type": "markdown",
      "source": [
        "## change the hyperparameters to see if the accuracy improves"
      ],
      "metadata": {
        "id": "YRU390eW2Wc2"
      }
    },
    {
      "cell_type": "markdown",
      "source": [
        "n_estimator = 10000 and max_features == 10"
      ],
      "metadata": {
        "id": "QPA3Y-KB2rKu"
      }
    },
    {
      "cell_type": "code",
      "source": [
        "# The max number of features <= 14\n",
        "rf = RandomForestClassifier(n_estimators = 10000, max_features = 13 , bootstrap = True, random_state = 2)\n",
        "rf.fit(train_features, train_labels)\n",
        "print(rf)"
      ],
      "metadata": {
        "colab": {
          "base_uri": "https://localhost:8080/"
        },
        "id": "0feTTkmJ2j57",
        "outputId": "93e460e5-aa42-4050-f5f7-00f9926a4eb8"
      },
      "execution_count": 118,
      "outputs": [
        {
          "output_type": "stream",
          "name": "stdout",
          "text": [
            "RandomForestClassifier(max_features=13, n_estimators=10000, random_state=2)\n"
          ]
        }
      ]
    },
    {
      "cell_type": "markdown",
      "source": [
        "get the prediction"
      ],
      "metadata": {
        "id": "GlRaYNBT3Cf9"
      }
    },
    {
      "cell_type": "code",
      "source": [
        "predictions = rf.predict(test_features)\n",
        "print(predictions)"
      ],
      "metadata": {
        "colab": {
          "base_uri": "https://localhost:8080/"
        },
        "id": "C24vt5Fp3FQK",
        "outputId": "543679b4-f8ce-4459-dce4-ed8c887daf7b"
      },
      "execution_count": 82,
      "outputs": [
        {
          "output_type": "stream",
          "name": "stdout",
          "text": [
            "[0 0 0 1 1 0 0 0 0 0 1 0 0 1 0 1 0 1 0 0 1 1 1 0 1 0 0 1 0 0 1 1 1 0 0 0 0\n",
            " 1 0 1 0 1 1 0 1 0 1 0 0 0 1 0 0 0 0 1 0 0 1 0 0 0 0 1 0 1 0 0 0 0 0 1 0 1]\n"
          ]
        }
      ]
    },
    {
      "cell_type": "markdown",
      "source": [
        "Get the accuracy"
      ],
      "metadata": {
        "id": "BqKqgkRM238E"
      }
    },
    {
      "cell_type": "code",
      "source": [
        "acc = round(100*metrics.accuracy_score(predictions, test_labels),2)\n",
        "print(\"Accuracy:\",acc,\"%\")"
      ],
      "metadata": {
        "colab": {
          "base_uri": "https://localhost:8080/"
        },
        "id": "v3CSUsdy26IX",
        "outputId": "a8cf6d9c-4751-4c4d-df13-65a390f934aa"
      },
      "execution_count": 83,
      "outputs": [
        {
          "output_type": "stream",
          "name": "stdout",
          "text": [
            "Accuracy: 82.43 %\n"
          ]
        }
      ]
    }
  ]
}